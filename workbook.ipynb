{
 "cells": [
  {
   "cell_type": "code",
   "execution_count": 1,
   "metadata": {},
   "outputs": [],
   "source": [
    "import anki\n",
    "from pinyin import *\n",
    "from IPython.core.display import HTML"
   ]
  },
  {
   "cell_type": "code",
   "execution_count": 2,
   "metadata": {
    "collapsed": true
   },
   "outputs": [],
   "source": [
    "sentence = '没问题, 夫人, 请您站开一点 可能有点麻烦'"
   ]
  },
  {
   "cell_type": "code",
   "execution_count": 3,
   "metadata": {},
   "outputs": [
    {
     "name": "stdout",
     "output_type": "stream",
     "text": [
      "(True, '没', ('mei2',))\n",
      "(True, '问题', ('wen4', 'ti2'))\n",
      "(False, ',', None)\n",
      "(False, ' ', None)\n",
      "(True, '夫人', ('fu1', 'ren5'))\n",
      "(False, ',', None)\n",
      "(False, ' ', None)\n",
      "(True, '请', ('qing3',))\n",
      "(True, '您', ('nin2',))\n",
      "(True, '站', ('zhan4',))\n",
      "(True, '开', ('kai1',))\n",
      "(True, '一点', ('yi1', 'dian3'))\n",
      "(False, ' ', None)\n",
      "(True, '可能', ('ke3', 'neng2'))\n",
      "(True, '有点', ('you3', 'dian3'))\n",
      "(True, '麻烦', ('ma2', 'fan5'))\n"
     ]
    }
   ],
   "source": [
    "ruby = parse_sentence(sentence)\n",
    "for thing in ruby: print(thing)"
   ]
  },
  {
   "cell_type": "code",
   "execution_count": 4,
   "metadata": {},
   "outputs": [
    {
     "data": {
      "text/html": [
       "<ruby>没<rt>méi</ruby> <ruby>问题<rt>wèn tí</ruby>, <ruby>夫人<rt>fū ren</ruby>, <ruby>请<rt>qǐng</ruby> <ruby>您<rt>nín</ruby> <ruby>站<rt>zhàn</ruby> <ruby>开<rt>kāi</ruby> <ruby>一点<rt>yī diǎn</ruby> <ruby>可能<rt>kě néng</ruby> <ruby>有点<rt>yǒu diǎn</ruby> <ruby>麻烦<rt>má fan</ruby>"
      ],
      "text/plain": [
       "<IPython.core.display.HTML object>"
      ]
     },
     "execution_count": 4,
     "metadata": {},
     "output_type": "execute_result"
    }
   ],
   "source": [
    "HTML(generate_ruby(ruby))"
   ]
  },
  {
   "cell_type": "code",
   "execution_count": 5,
   "metadata": {
    "scrolled": false
   },
   "outputs": [
    {
     "name": "stdout",
     "output_type": "stream",
     "text": [
      "('mei2',)\n",
      "('wen4', 'ti2')\n",
      "('fu1', 'ren5')\n",
      "('qing3',)\n",
      "('nin2',)\n",
      "('zhan4',)\n",
      "('kai1',)\n",
      "('yi1', 'dian3')\n",
      "('ke3', 'neng2')\n",
      "('you3', 'dian3')\n",
      "('ma2', 'fan5')\n"
     ]
    },
    {
     "data": {
      "text/html": [
       "<table>\n",
       "<tr><td class=\"dict-word\">没</td><td class=\"dict-definition\">mei2</td></tr><tr><td class=\"dict-word\"></td><td class=\"dict-definition\">mo4</td></tr><tr><td class=\"dict-word\">问题</td><td class=\"dict-definition\">wen4</td></tr><tr><td class=\"dict-word\"></td><td class=\"dict-definition\">ti2</td></tr><tr><td class=\"dict-word\">夫人</td><td class=\"dict-definition\">fu1</td></tr><tr><td class=\"dict-word\"></td><td class=\"dict-definition\">ren5</td></tr><tr><td class=\"dict-word\">请</td><td class=\"dict-definition\">qing3</td></tr><tr><td class=\"dict-word\">您</td><td class=\"dict-definition\">nin2</td></tr><tr><td class=\"dict-word\">站</td><td class=\"dict-definition\">zhan4</td></tr><tr><td class=\"dict-word\">开</td><td class=\"dict-definition\">kai1</td></tr><tr><td class=\"dict-word\">一点</td><td class=\"dict-definition\">yi1</td></tr><tr><td class=\"dict-word\"></td><td class=\"dict-definition\">dian3</td></tr><tr><td class=\"dict-word\">可能</td><td class=\"dict-definition\">ke3</td></tr><tr><td class=\"dict-word\"></td><td class=\"dict-definition\">neng2</td></tr><tr><td class=\"dict-word\">有点</td><td class=\"dict-definition\">you3</td></tr><tr><td class=\"dict-word\"></td><td class=\"dict-definition\">dian3</td></tr><tr><td class=\"dict-word\">麻烦</td><td class=\"dict-definition\">ma2</td></tr><tr><td class=\"dict-word\"></td><td class=\"dict-definition\">fan5</td></tr></table>"
      ],
      "text/plain": [
       "<IPython.core.display.HTML object>"
      ]
     },
     "execution_count": 5,
     "metadata": {},
     "output_type": "execute_result"
    }
   ],
   "source": [
    "HTML(generate_definitions_table(cedict, ruby))"
   ]
  },
  {
   "cell_type": "code",
   "execution_count": 8,
   "metadata": {},
   "outputs": [
    {
     "data": {
      "text/plain": [
       "(True,\n",
       " [['(negative prefix for verbs)', 'have not', 'not'],\n",
       "  ['drowned', 'to end', 'to die', 'to inundate']])"
      ]
     },
     "execution_count": 8,
     "metadata": {},
     "output_type": "execute_result"
    }
   ],
   "source": [
    "cedict.lookup('没')"
   ]
  },
  {
   "cell_type": "code",
   "execution_count": null,
   "metadata": {
    "collapsed": true
   },
   "outputs": [],
   "source": []
  }
 ],
 "metadata": {
  "kernelspec": {
   "display_name": "Python 3",
   "language": "python",
   "name": "python3"
  },
  "language_info": {
   "codemirror_mode": {
    "name": "ipython",
    "version": 3
   },
   "file_extension": ".py",
   "mimetype": "text/x-python",
   "name": "python",
   "nbconvert_exporter": "python",
   "pygments_lexer": "ipython3",
   "version": "3.6.3"
  }
 },
 "nbformat": 4,
 "nbformat_minor": 2
}
